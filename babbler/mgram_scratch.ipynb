{
 "metadata": {
  "name": "",
  "signature": "sha256:3e4f428082677b86d6d3e1c98d25718db26ee422a8aa4351a0cc74ef16957025"
 },
 "nbformat": 3,
 "nbformat_minor": 0,
 "worksheets": [
  {
   "cells": [
    {
     "cell_type": "code",
     "collapsed": false,
     "input": [
      "import mgram\n",
      "reload(mgram)\n",
      "import pmf\n",
      "reload(pmf)\n",
      "from mgram import mgm_from_corpus, MGramModel as MGM"
     ],
     "language": "python",
     "metadata": {},
     "outputs": [],
     "prompt_number": 160
    },
    {
     "cell_type": "code",
     "collapsed": false,
     "input": [
      "mgm = MGM(3)\n",
      "print mgm.root"
     ],
     "language": "python",
     "metadata": {},
     "outputs": [
      {
       "output_type": "stream",
       "stream": "stdout",
       "text": [
        "Node(symbol=None, cmf=<pmf.PMFArray instance at 0x10596add0>, children={})\n"
       ]
      }
     ],
     "prompt_number": 161
    },
    {
     "cell_type": "code",
     "collapsed": false,
     "input": [
      "ng = ('a','b','c')\n",
      "mgm.train(ng)\n",
      "node = mgm.root\n",
      "for s in ng :\n",
      "    print node.cmf\n",
      "    node = node.children[s]\n",
      "print node.cmf"
     ],
     "language": "python",
     "metadata": {},
     "outputs": [
      {
       "output_type": "stream",
       "stream": "stdout",
       "text": [
        "[('a', 1.0)]\n",
        "[('b', 1.0)]\n",
        "[('c', 1.0)]\n",
        "[]\n"
       ]
      }
     ],
     "prompt_number": 162
    },
    {
     "cell_type": "code",
     "collapsed": false,
     "input": [
      "ng2 = ('a','b','d')\n",
      "mgm.train(ng2)\n",
      "for i in xrange(len(ng2)) :\n",
      "    c = ng2[:i]\n",
      "    print c, mgm.get_cmf(c)"
     ],
     "language": "python",
     "metadata": {},
     "outputs": [
      {
       "output_type": "stream",
       "stream": "stdout",
       "text": [
        "() [('a', 2.0)]\n",
        "('a',) [('b', 2.0)]\n",
        "('a', 'b') [('c', 1.0), ('d', 1.0)]\n"
       ]
      }
     ],
     "prompt_number": 163
    },
    {
     "cell_type": "code",
     "collapsed": false,
     "input": [
      "mgm.emit(15)"
     ],
     "language": "python",
     "metadata": {},
     "outputs": [
      {
       "metadata": {},
       "output_type": "pyout",
       "prompt_number": 164,
       "text": [
        "['a', 'b', 'c', 'a', 'b', 'd', 'a', 'b', 'c', 'a', 'b', 'c', 'a', 'b', 'd']"
       ]
      }
     ],
     "prompt_number": 164
    },
    {
     "cell_type": "code",
     "collapsed": false,
     "input": [
      "f = open('blake.txt')\n",
      "blake = f.read()\n",
      "blake_mgm = mgm_from_corpus(blake, 3)\n",
      "f.close()"
     ],
     "language": "python",
     "metadata": {},
     "outputs": [],
     "prompt_number": 165
    },
    {
     "cell_type": "code",
     "collapsed": false,
     "input": [
      "f = open('hemmingway.txt')\n",
      "hemmingway = f.read()\n",
      "hemmingway_mgm = mgm_from_corpus(hemmingway, 3)\n",
      "hemmingway_mgm_4 = mgm_from_corpus(hemmingway, 4)\n",
      "f.close()"
     ],
     "language": "python",
     "metadata": {},
     "outputs": [],
     "prompt_number": 166
    },
    {
     "cell_type": "code",
     "collapsed": false,
     "input": [
      "seq, h = blake_mgm.emit(100, entropy=True)\n",
      "t = ' '.join(seq)\n",
      "l = 8 * len(t)\n",
      "r = l / h\n",
      "print h, l, r\n",
      "print t"
     ],
     "language": "python",
     "metadata": {},
     "outputs": [
      {
       "output_type": "stream",
       "stream": "stdout",
       "text": [
        "76.5371117916 3672 47.976725461\n",
        "* * * * * * * * The Giants who formed this world into its sensual existence and now we saw his mouth and red gills hang just above the waves , we will contemplate together upon it , and displaying the infinite abyss , fiery as the sayings used in a fungus , which to Angels look like torment and insanity , I beheld the infinite in everything ; and I took him to the fool 's reproach ; it was a true poet , and a Soul. 2. That Energy , called Evil , is not so\n"
       ]
      }
     ],
     "prompt_number": 167
    },
    {
     "cell_type": "code",
     "collapsed": false,
     "input": [
      "seq, h = hemmingway_mgm.emit(100, entropy=True)\n",
      "t = ' '.join(seq)\n",
      "l = 8 * len(t)\n",
      "r = l / h\n",
      "print h, l, r\n",
      "print t"
     ],
     "language": "python",
     "metadata": {},
     "outputs": [
      {
       "output_type": "stream",
       "stream": "stdout",
       "text": [
        "208.268730189 3864 18.5529531797\n",
        "bridge. When this road going down and stay , with a thin rattan stick like a criminal very long. '' '' I asked. '' I washed away where the girls at the edge of the railway embank- ment. Aymo came down and looking up ahead I knew as I started in France. They ca n't imagine lying like that. I was sure we could go to the American Tenente , '' Aymo said. CHAPTER III When I was undressed , except for columns of troops over and lay- flat on the French side. There was a bore to you. It\n"
       ]
      }
     ],
     "prompt_number": 168
    },
    {
     "cell_type": "code",
     "collapsed": false,
     "input": [
      "seq, h = hemmingway_mgm_4.emit(100, entropy=True)\n",
      "t = ' '.join(seq)\n",
      "l = 8 * len(t)\n",
      "r = l / h\n",
      "print h, l, r\n",
      "print t"
     ],
     "language": "python",
     "metadata": {},
     "outputs": [
      {
       "output_type": "stream",
       "stream": "stdout",
       "text": [
        "115.517990319 3264 28.2553391984\n",
        ", '' I said. '' No. Grappa. '' '' All right '' I went out swiftly , all of myself , and I held it and put my arm behind me to loosen my pistol. '' Do n't you ? '' he said. `` It 's all right , Cat. I know you 've been with all kinds of girls and it does n't work ! '' '' Be gentle I say , '' the nurse said. '' Please go out of the south window down into the lake and down at the edge of your nose as you in-\n"
       ]
      }
     ]
    },
    {
     "cell_type": "code",
     "collapsed": false,
     "input": [
      "import pickle\n",
      "ps = pickle.dumps(hemmingway_mgm)\n",
      "h4 = pickle.loads(ps)\n",
      "' '.join(h4.emit(100))"
     ],
     "language": "python",
     "metadata": {},
     "outputs": []
    },
    {
     "cell_type": "code",
     "collapsed": false,
     "input": [],
     "language": "python",
     "metadata": {},
     "outputs": []
    }
   ],
   "metadata": {}
  }
 ]
}