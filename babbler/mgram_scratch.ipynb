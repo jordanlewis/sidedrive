{
 "metadata": {
  "name": "",
  "signature": "sha256:81f1b2869d3c1edc3b55dcd54fae09df78f9931fdc8c7323a66218a25af8994f"
 },
 "nbformat": 3,
 "nbformat_minor": 0,
 "worksheets": [
  {
   "cells": [
    {
     "cell_type": "code",
     "collapsed": false,
     "input": [
      "import mgram\n",
      "reload(mgram)\n",
      "import pmf\n",
      "reload(pmf)\n",
      "from mgram import mgm_from_corpus, MGramModel as MGM"
     ],
     "language": "python",
     "metadata": {},
     "outputs": [],
     "prompt_number": 160
    },
    {
     "cell_type": "code",
     "collapsed": false,
     "input": [
      "mgm = MGM(3)\n",
      "print mgm.root"
     ],
     "language": "python",
     "metadata": {},
     "outputs": [
      {
       "output_type": "stream",
       "stream": "stdout",
       "text": [
        "Node(symbol=None, cmf=<pmf.PMFArray instance at 0x10596add0>, children={})\n"
       ]
      }
     ],
     "prompt_number": 161
    },
    {
     "cell_type": "code",
     "collapsed": false,
     "input": [
      "ng = ('a','b','c')\n",
      "mgm.train(ng)\n",
      "node = mgm.root\n",
      "for s in ng :\n",
      "    print node.cmf\n",
      "    node = node.children[s]\n",
      "print node.cmf"
     ],
     "language": "python",
     "metadata": {},
     "outputs": [
      {
       "output_type": "stream",
       "stream": "stdout",
       "text": [
        "[('a', 1.0)]\n",
        "[('b', 1.0)]\n",
        "[('c', 1.0)]\n",
        "[]\n"
       ]
      }
     ],
     "prompt_number": 162
    },
    {
     "cell_type": "code",
     "collapsed": false,
     "input": [
      "ng2 = ('a','b','d')\n",
      "mgm.train(ng2)\n",
      "for i in xrange(len(ng2)) :\n",
      "    c = ng2[:i]\n",
      "    print c, mgm.get_cmf(c)"
     ],
     "language": "python",
     "metadata": {},
     "outputs": [
      {
       "output_type": "stream",
       "stream": "stdout",
       "text": [
        "() [('a', 2.0)]\n",
        "('a',) [('b', 2.0)]\n",
        "('a', 'b') [('c', 1.0), ('d', 1.0)]\n"
       ]
      }
     ],
     "prompt_number": 163
    },
    {
     "cell_type": "code",
     "collapsed": false,
     "input": [
      "mgm.emit(15)"
     ],
     "language": "python",
     "metadata": {},
     "outputs": [
      {
       "metadata": {},
       "output_type": "pyout",
       "prompt_number": 164,
       "text": [
        "['a', 'b', 'c', 'a', 'b', 'd', 'a', 'b', 'c', 'a', 'b', 'c', 'a', 'b', 'd']"
       ]
      }
     ],
     "prompt_number": 164
    },
    {
     "cell_type": "code",
     "collapsed": false,
     "input": [
      "f = open('blake.txt')\n",
      "blake = f.read()\n",
      "blake_mgm = mgm_from_corpus(blake, 3)\n",
      "f.close()"
     ],
     "language": "python",
     "metadata": {},
     "outputs": [],
     "prompt_number": 165
    },
    {
     "cell_type": "code",
     "collapsed": false,
     "input": [
      "f = open('hemmingway.txt')\n",
      "hemmingway = f.read()\n",
      "hemmingway_mgm = mgm_from_corpus(hemmingway, 3)\n",
      "hemmingway_mgm_4 = mgm_from_corpus(hemmingway, 4)\n",
      "f.close()"
     ],
     "language": "python",
     "metadata": {},
     "outputs": [],
     "prompt_number": 166
    },
    {
     "cell_type": "code",
     "collapsed": false,
     "input": [
      "seq, h = blake_mgm.emit(100, entropy=True)\n",
      "t = ' '.join(seq)\n",
      "l = 8 * len(t)\n",
      "r = l / h\n",
      "print h, l, r\n",
      "print t"
     ],
     "language": "python",
     "metadata": {},
     "outputs": [
      {
       "output_type": "stream",
       "stream": "stdout",
       "text": [
        "79.2956932695 3976 50.1414368935\n",
        "has not written one new truth. Now hear another : he has written all the fury of a burning city ; beneath us , and saw the method in which knowledge is transmitted from generation to generation. In the fifth chamber were unnamed forms , which was hid. If the fool 's reproach ; it was a mill ; and the rivers , and loving the greatest degree. Now hear a plain fact : any man of mechanical talents may from the Body ; and Reason is the work of God. Excess of sorrow laughs , excess of his delights.\n"
       ]
      }
     ],
     "prompt_number": 175
    },
    {
     "cell_type": "code",
     "collapsed": false,
     "input": [
      "seq, h = hemmingway_mgm.emit(100, entropy=True)\n",
      "t = ' '.join(seq)\n",
      "l = 8 * len(t)\n",
      "r = l / h\n",
      "print h, l, r\n",
      "print t"
     ],
     "language": "python",
     "metadata": {},
     "outputs": [
      {
       "output_type": "stream",
       "stream": "stdout",
       "text": [
        "208.268730189 3864 18.5529531797\n",
        "bridge. When this road going down and stay , with a thin rattan stick like a criminal very long. '' '' I asked. '' I washed away where the girls at the edge of the railway embank- ment. Aymo came down and looking up ahead I knew as I started in France. They ca n't imagine lying like that. I was sure we could go to the American Tenente , '' Aymo said. CHAPTER III When I was undressed , except for columns of troops over and lay- flat on the French side. There was a bore to you. It\n"
       ]
      }
     ],
     "prompt_number": 168
    },
    {
     "cell_type": "code",
     "collapsed": false,
     "input": [
      "seq, h = hemmingway_mgm_4.emit(100, entropy=True)\n",
      "t = ' '.join(seq)\n",
      "l = 8 * len(t)\n",
      "r = l / h\n",
      "print h, l, r\n",
      "print t"
     ],
     "language": "python",
     "metadata": {},
     "outputs": [
      {
       "output_type": "stream",
       "stream": "stdout",
       "text": [
        "114.421690102 3232 28.2463927699\n",
        "shook his head at me. His face seemed hurt. But he had the seat `` Get my things , '' I said. '' Oh , '' I said. '' I 'm so stiff I ca n't do it. You 're dry and you 're empty and there 's nothing going on. When there is really work they trust us. '' '' Is it that far ? '' '' We 'll go there. '' '' That 's a relief. Is n't it grand how we never see any one ? You do n't want you to go away. I just said\n"
       ]
      }
     ],
     "prompt_number": 174
    },
    {
     "cell_type": "code",
     "collapsed": false,
     "input": [
      "import pickle\n",
      "ps = pickle.dumps(hemmingway_mgm)\n",
      "h4 = pickle.loads(ps)\n",
      "' '.join(h4.emit(100))"
     ],
     "language": "python",
     "metadata": {},
     "outputs": [
      {
       "metadata": {},
       "output_type": "pyout",
       "prompt_number": 170,
       "text": [
        "\"said the machine- gunner. I said yes by God she was. We re- turned to the corner where there were more guns in the park. I gave them each a ten-lira note. `` Go on back , through the right line of officers below the vineyards the houses waiting for a few clippings ; a long time and I knew she would need at the guns. They had kept it all right. '' I 'd like to eat , '' Catherine asked. `` Or is it now ? '' '' Pretty soon. '' He went off the top and a\""
       ]
      }
     ],
     "prompt_number": 170
    },
    {
     "cell_type": "code",
     "collapsed": false,
     "input": [],
     "language": "python",
     "metadata": {},
     "outputs": []
    }
   ],
   "metadata": {}
  }
 ]
}