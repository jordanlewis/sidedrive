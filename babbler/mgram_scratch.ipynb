{
 "metadata": {
  "name": "",
  "signature": "sha256:bb4463d7f561275bb8f1307b3827caa03f9267a7e785801c5772a99f1170088e"
 },
 "nbformat": 3,
 "nbformat_minor": 0,
 "worksheets": [
  {
   "cells": [
    {
     "cell_type": "code",
     "collapsed": false,
     "input": [
      "import mgram\n",
      "reload(mgram)\n",
      "import pmf\n",
      "reload(pmf)\n",
      "from mgram import mgm_from_corpus, MGramModel as MGM"
     ],
     "language": "python",
     "metadata": {},
     "outputs": [],
     "prompt_number": 98
    },
    {
     "cell_type": "code",
     "collapsed": false,
     "input": [
      "mgm = MGM(3)\n",
      "print mgm.root"
     ],
     "language": "python",
     "metadata": {},
     "outputs": [
      {
       "output_type": "stream",
       "stream": "stdout",
       "text": [
        "Node(symbol=None, cmf=<pmf.PMFArray instance at 0x105e29638>, children={})\n"
       ]
      }
     ],
     "prompt_number": 99
    },
    {
     "cell_type": "code",
     "collapsed": false,
     "input": [
      "ng = ('a','b','c')\n",
      "mgm.train(ng)\n",
      "node = mgm.root\n",
      "for s in ng :\n",
      "    print node.cmf\n",
      "    node = node.children[s]\n",
      "print node.cmf"
     ],
     "language": "python",
     "metadata": {},
     "outputs": [
      {
       "output_type": "stream",
       "stream": "stdout",
       "text": [
        "[('a', 1.0)]\n",
        "[('b', 1.0)]\n",
        "[('c', 1.0)]\n",
        "[]\n"
       ]
      }
     ],
     "prompt_number": 95
    },
    {
     "cell_type": "code",
     "collapsed": false,
     "input": [
      "ng2 = ('a','b','d')\n",
      "mgm.train(ng2)\n",
      "for i in xrange(len(ng2)) :\n",
      "    c = ng2[:i]\n",
      "    print c, mgm.get_cmf(c)"
     ],
     "language": "python",
     "metadata": {},
     "outputs": [
      {
       "output_type": "stream",
       "stream": "stdout",
       "text": [
        "() [('a', 2.0)]\n",
        "('a',) [('b', 2.0)]\n",
        "('a', 'b') [('c', 1.0), ('d', 1.0)]\n"
       ]
      }
     ],
     "prompt_number": 96
    },
    {
     "cell_type": "code",
     "collapsed": false,
     "input": [
      "mgm.emit(15)"
     ],
     "language": "python",
     "metadata": {},
     "outputs": [
      {
       "metadata": {},
       "output_type": "pyout",
       "prompt_number": 125,
       "text": [
        "(['some',\n",
        "  'one',\n",
        "  'to',\n",
        "  'take',\n",
        "  'them',\n",
        "  'away.',\n",
        "  'Those',\n",
        "  'are',\n",
        "  'all',\n",
        "  'the',\n",
        "  'empty',\n",
        "  'bottles',\n",
        "  'you',\n",
        "  'have',\n",
        "  '?'],\n",
        " 21.972228923003826)"
       ]
      }
     ],
     "prompt_number": 125
    },
    {
     "cell_type": "code",
     "collapsed": false,
     "input": [
      "f = open('blake.txt')\n",
      "blake = f.read()\n",
      "blake_mgm = mgm_from_corpus(blake, 3)\n",
      "f.close()"
     ],
     "language": "python",
     "metadata": {},
     "outputs": [],
     "prompt_number": 126
    },
    {
     "cell_type": "code",
     "collapsed": false,
     "input": [
      "f = open('hemmingway.txt')\n",
      "hemmingway = f.read()\n",
      "hemmingway_mgm = mgm_from_corpus(hemmingway, 3)\n",
      "hemmingway_mgm_4 = mgm_from_corpus(hemmingway, 4)\n",
      "f.close()"
     ],
     "language": "python",
     "metadata": {},
     "outputs": [],
     "prompt_number": 133
    },
    {
     "cell_type": "code",
     "collapsed": false,
     "input": [
      "seq, h = blake_mgm.emit(100, entropy=True)\n",
      "t = ' '.join(seq)\n",
      "l = 8 * len(t)\n",
      "r = l / h\n",
      "print h, l, r\n",
      "print t"
     ],
     "language": "python",
     "metadata": {},
     "outputs": [
      {
       "output_type": "stream",
       "stream": "stdout",
       "text": [
        "46.6515546993 4192 89.8576698466\n",
        "began Priesthood. Choosing forms of books , and exposes hypocrites , till a void boundless as a nether sky appeared beneath us at an immense distance was the shield ; forth went the hand of jealousy among the flaming hair shot like the sinking sun into the body was left a helpless trunk ; this they do with a terrible noise. Beneath us was nothing now to be infinite ; around were numbers of eagle-like men , and read by them on earth : 2. Albion 's coast is sick silent ; the American meadows faint. 3. Shadows of prophecy\n"
       ]
      }
     ],
     "prompt_number": 127
    },
    {
     "cell_type": "code",
     "collapsed": false,
     "input": [
      "seq, h = hemmingway_mgm.emit(100, entropy=True)\n",
      "t = ' '.join(seq)\n",
      "l = 8 * len(t)\n",
      "r = l / h\n",
      "print h, l, r\n",
      "print t"
     ],
     "language": "python",
     "metadata": {},
     "outputs": [
      {
       "output_type": "stream",
       "stream": "stdout",
       "text": [
        "238.419695612 3752 15.7369549121\n",
        "that we were very hungry but she was going down on the same peg. At the far end of the men , and the formalities were terrific. I wanted was to bring glasses. '' No. I 'll drive and you 're not. You 're pretty wonderful. '' '' They sent an orderly to see and she came down. There were benches behind a falls. She had the line of the soldiers had babies in the room and paid the driver , and stopped to watch it. '' '' All right. I 'm no good when you throw up noth- ing\n"
       ]
      }
     ],
     "prompt_number": 132
    },
    {
     "cell_type": "code",
     "collapsed": false,
     "input": [
      "seq, h = hemmingway_mgm_4.emit(100, entropy=True)\n",
      "t = ' '.join(seq)\n",
      "l = 8 * len(t)\n",
      "r = l / h\n",
      "print h, l, r\n",
      "print t"
     ],
     "language": "python",
     "metadata": {},
     "outputs": [
      {
       "output_type": "stream",
       "stream": "stdout",
       "text": [
        "55.5568021858 3872 69.6944361026\n",
        ", looking for a place where I could just see the shore but rowed stead- ily in the dark water. I could not believe she was really there and held her hand with the brush and her head sunk back on the rack and left the brandy bottles and a bottle of St. Estephe. I drank most of it but Catherine drank some and it made her feel splendid. For dinner we had a splendid time and we never learn. We never get anything new. We all start complete. You should be glad not to be able to get the\n"
       ]
      }
     ],
     "prompt_number": 134
    },
    {
     "cell_type": "code",
     "collapsed": false,
     "input": [],
     "language": "python",
     "metadata": {},
     "outputs": []
    }
   ],
   "metadata": {}
  }
 ]
}