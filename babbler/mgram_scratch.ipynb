{
 "metadata": {
  "name": "",
  "signature": "sha256:cc550dae3c9c2ac8d7c92e95c08156425f1afbd77592b64faede82884bd30d5b"
 },
 "nbformat": 3,
 "nbformat_minor": 0,
 "worksheets": [
  {
   "cells": [
    {
     "cell_type": "code",
     "collapsed": false,
     "input": [
      "import mgram\n",
      "reload(mgram)\n",
      "from mgram import MGramModel as MGM"
     ],
     "language": "python",
     "metadata": {},
     "outputs": [
      {
       "output_type": "stream",
       "stream": "stdout",
       "text": [
        "\n"
       ]
      }
     ],
     "prompt_number": 27
    },
    {
     "cell_type": "code",
     "collapsed": false,
     "input": [
      "mgm = MGM(3)\n",
      "print mgm.root"
     ],
     "language": "python",
     "metadata": {},
     "outputs": [
      {
       "output_type": "stream",
       "stream": "stdout",
       "text": [
        "Node(symbol=None, cmf=<pmf.PMFArray instance at 0x104092518>, children={})\n"
       ]
      }
     ],
     "prompt_number": 28
    },
    {
     "cell_type": "code",
     "collapsed": false,
     "input": [
      "ng = ('a','b','c')\n",
      "mgm.train(ng)\n",
      "node = mgm.root\n",
      "for s in ng :\n",
      "    print node.cmf\n",
      "    node = node.children[s]\n",
      "print node.cmf"
     ],
     "language": "python",
     "metadata": {},
     "outputs": [
      {
       "output_type": "stream",
       "stream": "stdout",
       "text": [
        "[('a', 1.0)]\n",
        "[('b', 1.0)]\n",
        "[('c', 1.0)]\n",
        "[]\n"
       ]
      }
     ],
     "prompt_number": 29
    },
    {
     "cell_type": "code",
     "collapsed": false,
     "input": [
      "ng2 = ('a','b','d')\n",
      "mgm.train(ng2)\n",
      "for i in xrange(len(ng2)) :\n",
      "    c = ng2[:i]\n",
      "    print c, mgm.get_cmf(c)"
     ],
     "language": "python",
     "metadata": {},
     "outputs": [
      {
       "output_type": "stream",
       "stream": "stdout",
       "text": [
        "() [('a', 2.0)]\n",
        "('a',) [('b', 2.0)]\n",
        "('a', 'b') [('c', 1.0), ('d', 1.0)]\n"
       ]
      }
     ],
     "prompt_number": 30
    },
    {
     "cell_type": "code",
     "collapsed": false,
     "input": [],
     "language": "python",
     "metadata": {},
     "outputs": []
    }
   ],
   "metadata": {}
  }
 ]
}