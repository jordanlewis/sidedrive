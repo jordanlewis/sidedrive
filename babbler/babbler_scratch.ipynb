{
 "metadata": {
  "name": "",
  "signature": "sha256:2d8e00afb2159d24f78eb423229548d9ff33e538a94ea25f6ac780f21548b899"
 },
 "nbformat": 3,
 "nbformat_minor": 0,
 "worksheets": [
  {
   "cells": [
    {
     "cell_type": "code",
     "collapsed": false,
     "input": [
      "import mgram\n",
      "reload(mgram)\n",
      "from mgram import mgm_from_corpus, MGramModel as MGM\n",
      "import babbler\n",
      "reload(babbler)\n",
      "from babbler import Babbler as BB\n",
      "from BitVector import BitVector as BV\n",
      "import cheerios\n",
      "reload(cheerios)"
     ],
     "language": "python",
     "metadata": {},
     "outputs": [
      {
       "metadata": {},
       "output_type": "pyout",
       "prompt_number": 63,
       "text": [
        "<module 'cheerios' from 'cheerios.pyc'>"
       ]
      }
     ],
     "prompt_number": 63
    },
    {
     "cell_type": "code",
     "collapsed": false,
     "input": [
      "f = open('hemmingway.txt')\n",
      "t = f.read()\n",
      "mgm = mgm_from_corpus(t, 3)\n",
      "f.close()"
     ],
     "language": "python",
     "metadata": {},
     "outputs": [],
     "prompt_number": 64
    },
    {
     "cell_type": "code",
     "collapsed": false,
     "input": [
      "bb = BB(mgm)\n",
      "bv = BV(textstring=\"password\")\n",
      "s = bb.encode(bv)\n",
      "s, len(s)"
     ],
     "language": "python",
     "metadata": {},
     "outputs": [
      {
       "metadata": {},
       "output_type": "pyout",
       "prompt_number": 65,
       "text": [
        "(\"and out of sight now. / CHAPTER XXXI You do n't want to be sent down and asked the vice- consul. `` They are training an army of ten million. '' '' The man on it , '' I said. The room\",\n",
        " 183)"
       ]
      }
     ],
     "prompt_number": 65
    },
    {
     "cell_type": "code",
     "collapsed": false,
     "input": [
      "ds = bb.decode(s)\n",
      "ds.getTextFromBitVector()"
     ],
     "language": "python",
     "metadata": {},
     "outputs": [
      {
       "metadata": {},
       "output_type": "pyout",
       "prompt_number": 66,
       "text": [
        "'password'"
       ]
      }
     ],
     "prompt_number": 66
    },
    {
     "cell_type": "code",
     "collapsed": false,
     "input": [],
     "language": "python",
     "metadata": {},
     "outputs": []
    }
   ],
   "metadata": {}
  }
 ]
}